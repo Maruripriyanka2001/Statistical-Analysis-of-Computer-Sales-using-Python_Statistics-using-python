{
 "cells": [
  {
   "cell_type": "code",
   "execution_count": 1,
   "id": "fd9826d3-3804-49db-911e-f694d528c1ca",
   "metadata": {},
   "outputs": [],
   "source": [
    "import pandas as pd\n",
    "import numpy as np"
   ]
  },
  {
   "cell_type": "code",
   "execution_count": 3,
   "id": "c09d138a-d8c9-49d5-9fe4-c9b5cd99b715",
   "metadata": {},
   "outputs": [
    {
     "data": {
      "text/html": [
       "<div>\n",
       "<style scoped>\n",
       "    .dataframe tbody tr th:only-of-type {\n",
       "        vertical-align: middle;\n",
       "    }\n",
       "\n",
       "    .dataframe tbody tr th {\n",
       "        vertical-align: top;\n",
       "    }\n",
       "\n",
       "    .dataframe thead th {\n",
       "        text-align: right;\n",
       "    }\n",
       "</style>\n",
       "<table border=\"1\" class=\"dataframe\">\n",
       "  <thead>\n",
       "    <tr style=\"text-align: right;\">\n",
       "      <th></th>\n",
       "      <th>index</th>\n",
       "      <th>price</th>\n",
       "      <th>speed</th>\n",
       "      <th>hd</th>\n",
       "      <th>ram</th>\n",
       "      <th>screen</th>\n",
       "      <th>cd</th>\n",
       "      <th>multi</th>\n",
       "      <th>premium</th>\n",
       "      <th>ads_2022</th>\n",
       "      <th>ads_2023</th>\n",
       "      <th>trend</th>\n",
       "    </tr>\n",
       "  </thead>\n",
       "  <tbody>\n",
       "    <tr>\n",
       "      <th>0</th>\n",
       "      <td>1</td>\n",
       "      <td>1499</td>\n",
       "      <td>25</td>\n",
       "      <td>80</td>\n",
       "      <td>4</td>\n",
       "      <td>14</td>\n",
       "      <td>no</td>\n",
       "      <td>no</td>\n",
       "      <td>yes</td>\n",
       "      <td>94</td>\n",
       "      <td>94</td>\n",
       "      <td>1</td>\n",
       "    </tr>\n",
       "    <tr>\n",
       "      <th>1</th>\n",
       "      <td>2</td>\n",
       "      <td>1795</td>\n",
       "      <td>33</td>\n",
       "      <td>85</td>\n",
       "      <td>2</td>\n",
       "      <td>14</td>\n",
       "      <td>no</td>\n",
       "      <td>no</td>\n",
       "      <td>yes</td>\n",
       "      <td>94</td>\n",
       "      <td>94</td>\n",
       "      <td>1</td>\n",
       "    </tr>\n",
       "    <tr>\n",
       "      <th>2</th>\n",
       "      <td>3</td>\n",
       "      <td>1595</td>\n",
       "      <td>25</td>\n",
       "      <td>170</td>\n",
       "      <td>4</td>\n",
       "      <td>15</td>\n",
       "      <td>no</td>\n",
       "      <td>no</td>\n",
       "      <td>yes</td>\n",
       "      <td>94</td>\n",
       "      <td>94</td>\n",
       "      <td>1</td>\n",
       "    </tr>\n",
       "    <tr>\n",
       "      <th>3</th>\n",
       "      <td>4</td>\n",
       "      <td>1849</td>\n",
       "      <td>25</td>\n",
       "      <td>170</td>\n",
       "      <td>8</td>\n",
       "      <td>14</td>\n",
       "      <td>no</td>\n",
       "      <td>no</td>\n",
       "      <td>no</td>\n",
       "      <td>94</td>\n",
       "      <td>94</td>\n",
       "      <td>1</td>\n",
       "    </tr>\n",
       "    <tr>\n",
       "      <th>4</th>\n",
       "      <td>5</td>\n",
       "      <td>3295</td>\n",
       "      <td>33</td>\n",
       "      <td>340</td>\n",
       "      <td>16</td>\n",
       "      <td>14</td>\n",
       "      <td>no</td>\n",
       "      <td>no</td>\n",
       "      <td>yes</td>\n",
       "      <td>94</td>\n",
       "      <td>104</td>\n",
       "      <td>1</td>\n",
       "    </tr>\n",
       "    <tr>\n",
       "      <th>...</th>\n",
       "      <td>...</td>\n",
       "      <td>...</td>\n",
       "      <td>...</td>\n",
       "      <td>...</td>\n",
       "      <td>...</td>\n",
       "      <td>...</td>\n",
       "      <td>...</td>\n",
       "      <td>...</td>\n",
       "      <td>...</td>\n",
       "      <td>...</td>\n",
       "      <td>...</td>\n",
       "      <td>...</td>\n",
       "    </tr>\n",
       "    <tr>\n",
       "      <th>6254</th>\n",
       "      <td>6255</td>\n",
       "      <td>1690</td>\n",
       "      <td>100</td>\n",
       "      <td>528</td>\n",
       "      <td>8</td>\n",
       "      <td>15</td>\n",
       "      <td>no</td>\n",
       "      <td>no</td>\n",
       "      <td>yes</td>\n",
       "      <td>39</td>\n",
       "      <td>70</td>\n",
       "      <td>35</td>\n",
       "    </tr>\n",
       "    <tr>\n",
       "      <th>6255</th>\n",
       "      <td>6256</td>\n",
       "      <td>2223</td>\n",
       "      <td>66</td>\n",
       "      <td>850</td>\n",
       "      <td>16</td>\n",
       "      <td>15</td>\n",
       "      <td>yes</td>\n",
       "      <td>yes</td>\n",
       "      <td>yes</td>\n",
       "      <td>39</td>\n",
       "      <td>70</td>\n",
       "      <td>35</td>\n",
       "    </tr>\n",
       "    <tr>\n",
       "      <th>6256</th>\n",
       "      <td>6257</td>\n",
       "      <td>2654</td>\n",
       "      <td>100</td>\n",
       "      <td>1200</td>\n",
       "      <td>24</td>\n",
       "      <td>15</td>\n",
       "      <td>yes</td>\n",
       "      <td>no</td>\n",
       "      <td>yes</td>\n",
       "      <td>39</td>\n",
       "      <td>70</td>\n",
       "      <td>35</td>\n",
       "    </tr>\n",
       "    <tr>\n",
       "      <th>6257</th>\n",
       "      <td>6258</td>\n",
       "      <td>2195</td>\n",
       "      <td>100</td>\n",
       "      <td>850</td>\n",
       "      <td>16</td>\n",
       "      <td>15</td>\n",
       "      <td>yes</td>\n",
       "      <td>no</td>\n",
       "      <td>yes</td>\n",
       "      <td>39</td>\n",
       "      <td>70</td>\n",
       "      <td>35</td>\n",
       "    </tr>\n",
       "    <tr>\n",
       "      <th>6258</th>\n",
       "      <td>6259</td>\n",
       "      <td>2490</td>\n",
       "      <td>100</td>\n",
       "      <td>850</td>\n",
       "      <td>16</td>\n",
       "      <td>17</td>\n",
       "      <td>yes</td>\n",
       "      <td>no</td>\n",
       "      <td>yes</td>\n",
       "      <td>39</td>\n",
       "      <td>70</td>\n",
       "      <td>35</td>\n",
       "    </tr>\n",
       "  </tbody>\n",
       "</table>\n",
       "<p>6259 rows × 12 columns</p>\n",
       "</div>"
      ],
      "text/plain": [
       "      index  price  speed    hd  ram  screen   cd multi premium  ads_2022  \\\n",
       "0         1   1499     25    80    4      14   no    no     yes        94   \n",
       "1         2   1795     33    85    2      14   no    no     yes        94   \n",
       "2         3   1595     25   170    4      15   no    no     yes        94   \n",
       "3         4   1849     25   170    8      14   no    no      no        94   \n",
       "4         5   3295     33   340   16      14   no    no     yes        94   \n",
       "...     ...    ...    ...   ...  ...     ...  ...   ...     ...       ...   \n",
       "6254   6255   1690    100   528    8      15   no    no     yes        39   \n",
       "6255   6256   2223     66   850   16      15  yes   yes     yes        39   \n",
       "6256   6257   2654    100  1200   24      15  yes    no     yes        39   \n",
       "6257   6258   2195    100   850   16      15  yes    no     yes        39   \n",
       "6258   6259   2490    100   850   16      17  yes    no     yes        39   \n",
       "\n",
       "      ads_2023  trend  \n",
       "0           94      1  \n",
       "1           94      1  \n",
       "2           94      1  \n",
       "3           94      1  \n",
       "4          104      1  \n",
       "...        ...    ...  \n",
       "6254        70     35  \n",
       "6255        70     35  \n",
       "6256        70     35  \n",
       "6257        70     35  \n",
       "6258        70     35  \n",
       "\n",
       "[6259 rows x 12 columns]"
      ]
     },
     "execution_count": 3,
     "metadata": {},
     "output_type": "execute_result"
    }
   ],
   "source": [
    "df=pd.read_csv(r\"Downloads/DS1_C8_Computers_Data_Project.csv\")\n",
    "df"
   ]
  },
  {
   "cell_type": "code",
   "execution_count": 4,
   "id": "bc66c9db-18a8-423a-9264-a7da35ed4e5e",
   "metadata": {},
   "outputs": [
    {
     "data": {
      "text/plain": [
       "index       0\n",
       "price       0\n",
       "speed       0\n",
       "hd          0\n",
       "ram         0\n",
       "screen      0\n",
       "cd          0\n",
       "multi       0\n",
       "premium     0\n",
       "ads_2022    0\n",
       "ads_2023    0\n",
       "trend       0\n",
       "dtype: int64"
      ]
     },
     "execution_count": 4,
     "metadata": {},
     "output_type": "execute_result"
    }
   ],
   "source": [
    "df.isnull().sum()"
   ]
  },
  {
   "cell_type": "code",
   "execution_count": 5,
   "id": "5b890cb7-66be-42b2-a0e0-ba4379295fcd",
   "metadata": {},
   "outputs": [
    {
     "data": {
      "text/plain": [
       "Index(['index', 'price', 'speed', 'hd', 'ram', 'screen', 'cd', 'multi',\n",
       "       'premium', 'ads_2022', 'ads_2023', 'trend'],\n",
       "      dtype='object')"
      ]
     },
     "execution_count": 5,
     "metadata": {},
     "output_type": "execute_result"
    }
   ],
   "source": [
    "df.columns"
   ]
  },
  {
   "cell_type": "code",
   "execution_count": null,
   "id": "8440fc3e-4877-4969-af83-de02fcc2317a",
   "metadata": {},
   "outputs": [],
   "source": [
    "#Business Objective 1\n",
    "#Enhance Product Strategy and Sales Performance through Specification-Based Analysis\n",
    "\n",
    "#Task 1\n",
    "\n",
    "#a) Analyze Purchase Likelihood Based on Specifications\n",
    "\n",
    "#The company wants to understand the likelihood of customers purchasing specific computer configurations based on a combination of desired features (RAM size, processor speed, size of the computer screen).\n",
    "\n",
    "#What is the probability of a customer purchasing a computer with at least 8GB of RAM, computer screen size of 14 inch, and a processor speed exceeding 33 MHz?"
   ]
  },
  {
   "cell_type": "code",
   "execution_count": 9,
   "id": "07d88462-cb24-4a84-ac73-d32e178c9a43",
   "metadata": {},
   "outputs": [
    {
     "name": "stdout",
     "output_type": "stream",
     "text": [
      "Number of computers with specified configurations: 1003\n"
     ]
    }
   ],
   "source": [
    "# Filtering for specified configurations\n",
    "filtered_data = df[(df['ram'] >= 8) & (df['screen'] == 14) & (df['speed'] > 33)]\n",
    "# Checking the count of filtered rows\n",
    "n_specified = len(filtered_data)\n",
    "print(f\"Number of computers with specified configurations: {n_specified}\")"
   ]
  },
  {
   "cell_type": "code",
   "execution_count": 8,
   "id": "fa1069be-7e50-4a32-975c-2129dcd004cf",
   "metadata": {},
   "outputs": [
    {
     "name": "stdout",
     "output_type": "stream",
     "text": [
      "Total computers: 6259\n",
      "Probability of purchase with specified configurations: 0.16\n"
     ]
    }
   ],
   "source": [
    "# Total number of computers in the dataset\n",
    "n_total = len(df)\n",
    "\n",
    "# Calculating probability\n",
    "probability = n_specified / n_total\n",
    "print(f\"Total computers: {n_total}\")\n",
    "print(f\"Probability of purchase with specified configurations: {probability:.2f}\")"
   ]
  },
  {
   "cell_type": "code",
   "execution_count": null,
   "id": "427ab9db-3e67-41de-afd3-5926b691cb5c",
   "metadata": {},
   "outputs": [],
   "source": [
    "#Task 1 (cont'd)\n",
    "\n",
    "#b) Probability of Selling Premium Computers\n",
    "\n",
    "#I. What is the probability of selling a premium computer?\n",
    "\n",
    "#II. Given that a computer is premium, what is the probability that it has a CD player?\n"
   ]
  },
  {
   "cell_type": "code",
   "execution_count": 10,
   "id": "5b353eff-77f0-425d-929c-f06a71107214",
   "metadata": {},
   "outputs": [
    {
     "name": "stdout",
     "output_type": "stream",
     "text": [
      "Probability of selling a premium computer: 0.90\n"
     ]
    }
   ],
   "source": [
    "# Total computers and premium computers\n",
    "n_total = len(df)\n",
    "n_premium = len(df[df['premium'] == 'yes'])\n",
    "# Probability\n",
    "p_premium = n_premium / n_total\n",
    "print(f\"Probability of selling a premium computer: {p_premium:.2f}\")"
   ]
  },
  {
   "cell_type": "code",
   "execution_count": 12,
   "id": "5d11f235-f14a-42af-8be4-42a2b581aca0",
   "metadata": {},
   "outputs": [
    {
     "name": "stdout",
     "output_type": "stream",
     "text": [
      "Probability of a premium computer having a CD player: 0.50\n"
     ]
    }
   ],
   "source": [
    "# Filter premium computers\n",
    "premium_computers = df[df['premium'] == 'yes']\n",
    "\n",
    "# Count premium computers with a CD player\n",
    "n_premium_with_cd = len(premium_computers[premium_computers['cd'] == 'yes'])\n",
    "\n",
    "# Conditional probability\n",
    "p_cd_given_premium = n_premium_with_cd / n_premium\n",
    "print(f\"Probability of a premium computer having a CD player: {p_cd_given_premium:.2f}\")"
   ]
  },
  {
   "cell_type": "code",
   "execution_count": null,
   "id": "8ccd6f1b-ee80-4ea6-b742-486e685369f6",
   "metadata": {},
   "outputs": [],
   "source": [
    "#Task 1 (cont'd)\n",
    "\n",
    "#c) Predicting the Probability of Certain Specifications\n",
    "\n",
    "#What is the probability of a computer having a screen size greater than 15 inches and being premium?\n",
    "\n",
    "#Given that a computer is not premium, what is the probability that it has a screen size less than or equal to 14 inches?"
   ]
  },
  {
   "cell_type": "code",
   "execution_count": 13,
   "id": "2146ad1b-c5e4-40f6-b0fc-35d55bb59d47",
   "metadata": {},
   "outputs": [
    {
     "name": "stdout",
     "output_type": "stream",
     "text": [
      "Probability of screen greater than 15 inches and being premium: 0.08\n"
     ]
    }
   ],
   "source": [
    "# Total number of computers\n",
    "n_total = len(df)\n",
    "# Computers with screen greater than 15 and premium\n",
    "n_screen_premium = len(df[(df['screen'] > 15) & (df['premium'] == 'yes')])\n",
    "# Probability\n",
    "p_screen_and_premium = n_screen_premium / n_total\n",
    "print(f\"Probability of screen greater than 15 inches and being premium: {p_screen_and_premium:.2f}\")"
   ]
  },
  {
   "cell_type": "code",
   "execution_count": 14,
   "id": "ba9917ba-eae9-4514-b4b6-f4ec0c0ce973",
   "metadata": {},
   "outputs": [
    {
     "name": "stdout",
     "output_type": "stream",
     "text": [
      "Probability of screen ≤ 14 inches given not premium: 0.69\n"
     ]
    }
   ],
   "source": [
    "# Filter for non-premium computers\n",
    "non_premium_computers = df[df['premium'] == 'no']\n",
    "# Total non-premium computers\n",
    "n_non_premium = len(non_premium_computers)\n",
    "# Non-premium computers with screen ≤ 14\n",
    "n_screen_non_premium = len(non_premium_computers[non_premium_computers['screen'] <= 14])\n",
    "# Conditional probability\n",
    "p_screen_given_non_premium = n_screen_non_premium / n_non_premium\n",
    "print(f\"Probability of screen ≤ 14 inches given not premium: {p_screen_given_non_premium:.2f}\")"
   ]
  },
  {
   "cell_type": "code",
   "execution_count": null,
   "id": "02331017-9768-41ac-98a8-709cd7a5279b",
   "metadata": {},
   "outputs": [],
   "source": [
    "#Task 1 (cont'd)\n",
    "\n",
    "#d) Likelihood of computers having both a CD player and a multimedia kit\n",
    "\n",
    "#1 What is the joint probability of computers having both a CD player and a multimedia kit?\n",
    "\n",
    "#2 Given that a computer has a CD player, what is the probability that it also has a multimedia kit?"
   ]
  },
  {
   "cell_type": "code",
   "execution_count": 15,
   "id": "ec415ddd-1c44-4cb3-b55e-a4ba918ef2b7",
   "metadata": {},
   "outputs": [
    {
     "name": "stdout",
     "output_type": "stream",
     "text": [
      "Joint probability of having both a CD player and a multimedia kit: 0.14\n"
     ]
    }
   ],
   "source": [
    "# Total number of computers\n",
    "n_total = len(df)\n",
    "\n",
    "# Computers with both CD player and multimedia kit\n",
    "n_cd_and_multi = len(df[(df['cd'] == 'yes') & (df['multi'] == 'yes')])\n",
    "\n",
    "# Joint probability\n",
    "p_cd_and_multi = n_cd_and_multi / n_total\n",
    "print(f\"Joint probability of having both a CD player and a multimedia kit: {p_cd_and_multi:.2f}\")"
   ]
  },
  {
   "cell_type": "code",
   "execution_count": 16,
   "id": "abef5a72-8f5b-4053-bf13-b9b5ee6e5c85",
   "metadata": {},
   "outputs": [
    {
     "name": "stdout",
     "output_type": "stream",
     "text": [
      "Probability of having a multimedia kit given a CD player: 0.30\n"
     ]
    }
   ],
   "source": [
    "# Filter for computers with a CD player\n",
    "cd_computers = df[df['cd'] == 'yes']\n",
    "\n",
    "# Total computers with a CD player\n",
    "n_cd = len(cd_computers)\n",
    "\n",
    "# Computers with both CD player and multimedia kit\n",
    "n_multi_given_cd = len(cd_computers[cd_computers['multi'] == 'yes'])\n",
    "\n",
    "# probability\n",
    "p_multi_given_cd = n_multi_given_cd / n_cd\n",
    "print(f\"Probability of having a multimedia kit given a CD player: {p_multi_given_cd:.2f}\")\n"
   ]
  },
  {
   "cell_type": "code",
   "execution_count": null,
   "id": "331244e2-4743-4df1-9beb-89af64c41a08",
   "metadata": {},
   "outputs": [],
   "source": [
    "################ TASK2###################"
   ]
  },
  {
   "cell_type": "code",
   "execution_count": 17,
   "id": "df118284-8083-4975-b085-7184d977fef0",
   "metadata": {},
   "outputs": [
    {
     "name": "stdout",
     "output_type": "stream",
     "text": [
      "Average price of computers in the dataset: $2219.58\n"
     ]
    }
   ],
   "source": [
    "#a) What is the average price of computers in the population/whole data?\n",
    "avg_price = df['price'].mean()\n",
    "print(f\"Average price of computers in the dataset: ${avg_price:.2f}\")"
   ]
  },
  {
   "cell_type": "code",
   "execution_count": 18,
   "id": "419f87f7-bbc3-4e09-a64d-9ba347b0ce3e",
   "metadata": {},
   "outputs": [
    {
     "name": "stdout",
     "output_type": "stream",
     "text": [
      "Simple Random Sampling Avg Price: $2466.87\n"
     ]
    }
   ],
   "source": [
    "#b) How does the average price of samples vary when data is sampled using different sampling techniques?\n",
    "sample_random = df.sample(n=30, random_state=1)\n",
    "avg_price_random = sample_random['price'].mean()\n",
    "print(f\"Simple Random Sampling Avg Price: ${avg_price_random:.2f}\")"
   ]
  },
  {
   "cell_type": "code",
   "execution_count": 19,
   "id": "2653ef0b-cd5e-4851-ac2b-04d3d3225be8",
   "metadata": {},
   "outputs": [
    {
     "name": "stdout",
     "output_type": "stream",
     "text": [
      "Stratified Sampling Avg Price: $2203.93\n"
     ]
    }
   ],
   "source": [
    "# Split data into groups\n",
    "premium = df[df['premium'] == 'yes']\n",
    "non_premium = df[df['premium'] == 'no']\n",
    "\n",
    "# Proportional sample sizes \n",
    "sample_premium = premium.sample(n=21, random_state=1)  # 70% of 30\n",
    "sample_non_premium = non_premium.sample(n=9, random_state=1)  # 30% of 30\n",
    "\n",
    "# Combine and calculate average\n",
    "sample_stratified = pd.concat([sample_premium, sample_non_premium])\n",
    "avg_price_stratified = sample_stratified['price'].mean()\n",
    "print(f\"Stratified Sampling Avg Price: ${avg_price_stratified:.2f}\")"
   ]
  },
  {
   "cell_type": "code",
   "execution_count": 20,
   "id": "e1b72a43-edfc-46b6-83d5-a53bed35d8e4",
   "metadata": {},
   "outputs": [
    {
     "name": "stdout",
     "output_type": "stream",
     "text": [
      "Systematic Sampling Avg Price: $2220.65\n"
     ]
    }
   ],
   "source": [
    "# Systematic sampling (e.g., every 10th record)\n",
    "k = 10\n",
    "sample_systematic = df.iloc[::k]\n",
    "avg_price_systematic = sample_systematic['price'].mean()\n",
    "print(f\"Systematic Sampling Avg Price: ${avg_price_systematic:.2f}\")"
   ]
  },
  {
   "cell_type": "code",
   "execution_count": 21,
   "id": "4cf74e46-e88d-4071-bb56-47938a404343",
   "metadata": {},
   "outputs": [
    {
     "name": "stdout",
     "output_type": "stream",
     "text": [
      "Average price of premium computers: $2204.15\n",
      "Average price of non-premium computers: $2361.93\n"
     ]
    }
   ],
   "source": [
    "#Task 2 (cont'd)\n",
    "\n",
    "#c) What is the average price of premium and non-premium computers in the whole data? How does the average price differ between premium and non-premium computers of sampled data using simple random sampling without replacement?\n",
    "# Average price for premium computers\n",
    "avg_price_premium = df[df['premium'] == 'yes']['price'].mean()\n",
    "\n",
    "# Average price for non-premium computers\n",
    "avg_price_non_premium = df[df['premium'] == 'no']['price'].mean()\n",
    "\n",
    "print(f\"Average price of premium computers: ${avg_price_premium:.2f}\")\n",
    "print(f\"Average price of non-premium computers: ${avg_price_non_premium:.2f}\")"
   ]
  },
  {
   "cell_type": "code",
   "execution_count": 23,
   "id": "44e84e90-f081-458f-a6e5-e469b438d123",
   "metadata": {},
   "outputs": [
    {
     "name": "stdout",
     "output_type": "stream",
     "text": [
      "Sampled Premium Computers Avg Price: $2404.39\n",
      "Sampled Non-Premium Computers Avg Price: $3341.50\n"
     ]
    }
   ],
   "source": [
    "# Simple random sampling without replacement\n",
    "sample_random = df.sample(n=30, random_state=1)\n",
    "\n",
    "# Average price for premium and non-premium computers in the sample\n",
    "avg_price_premium_sample = sample_random[sample_random['premium'] == 'yes']['price'].mean()\n",
    "avg_price_non_premium_sample = sample_random[sample_random['premium'] == 'no']['price'].mean()\n",
    "\n",
    "print(f\"Sampled Premium Computers Avg Price: ${avg_price_premium_sample:.2f}\")\n",
    "print(f\"Sampled Non-Premium Computers Avg Price: ${avg_price_non_premium_sample:.2f}\")"
   ]
  },
  {
   "cell_type": "code",
   "execution_count": null,
   "id": "fb3958c1-dbc6-442a-bb19-819483625c64",
   "metadata": {},
   "outputs": [],
   "source": [
    "#d) Write your interpretation by comparing prices of premium and non-premium computers individually and prices of both categories together."
   ]
  },
  {
   "cell_type": "code",
   "execution_count": null,
   "id": "efe67bb9-061b-4b7d-b4e8-8ba094abd47e",
   "metadata": {},
   "outputs": [],
   "source": [
    "#Premium Computers:\n",
    "#Whole Data: $2,204.15,Sampled Data: $2,225.86\n",
    "#Premium computers are priced lower than non-premium ones, with minimal price difference between the whole dataset and the sample.\n",
    "\n",
    "#Non-Premium Computers:\n",
    "#Whole Data: $2,361.93,Sampled Data: $2,188.50\n",
    "#Non-premium computers are more expensive on average in the whole dataset, but the sample shows them to be cheaper than premium models.\n",
    "\n",
    "#Combined Price:\n",
    "#Whole Data: Non-premium computers has the overall average higher due to their higher prices.\n",
    "#Sampled Data: The price gap between premium and non-premium computers is smaller in the sample, showing random selection may not reflect the true price distribution."
   ]
  },
  {
   "cell_type": "code",
   "execution_count": null,
   "id": "4707b654-761d-438e-af15-3dc7258d8599",
   "metadata": {},
   "outputs": [],
   "source": [
    "#Business Objective 3\n",
    "\n",
    "#Understanding Computer Price Trends Through Distribution Analysis"
   ]
  },
  {
   "cell_type": "code",
   "execution_count": null,
   "id": "895bf53b-8d4f-448c-ad0f-3504b223afde",
   "metadata": {},
   "outputs": [],
   "source": [
    "########################Task 3######################"
   ]
  },
  {
   "cell_type": "code",
   "execution_count": 25,
   "id": "1948a285-81b4-4de2-b05e-dc7d01fbe352",
   "metadata": {},
   "outputs": [
    {
     "data": {
      "image/png": "[encoded data removed]",
      "text/plain": [
       "<Figure size 1200x400 with 1 Axes>"
      ]
     },
     "metadata": {},
     "output_type": "display_data"
    }
   ],
   "source": [
    "#a) How does the distribution of sample means change for computer prices with different sample sizes?\n",
    "import matplotlib.pyplot as plt\n",
    "import numpy as np\n",
    "\n",
    "sample_sizes = [10, 30, 50, 100] # Define sample sizes and number of repetitions\n",
    "num_samples = 1000  # Number of samples to draw for each size\n",
    "sample_means = {}\n",
    "for size in sample_sizes:\n",
    "    means = [df['price'].sample(n=size, replace=True).mean() for _ in range(num_samples)]\n",
    "    sample_means[size] = means\n",
    "\n",
    "plt.figure(figsize=(12, 4))\n",
    "for size, means in sample_means.items():\n",
    "    plt.hist(means, bins=30, alpha=0.5, label=f\"Sample size = {size}\")\n",
    "\n",
    "plt.title(\"Distribution of Sample Means for Different Sample Sizes\")\n",
    "plt.xlabel(\"Sample Mean\")\n",
    "plt.ylabel(\"Frequency\")\n",
    "plt.legend()\n",
    "plt.show()"
   ]
  },
  {
   "cell_type": "code",
   "execution_count": 27,
   "id": "d8aab8cd-bf1b-49e1-95a9-555a0e5e0c37",
   "metadata": {},
   "outputs": [
    {
     "data": {
      "image/png": "[encoded data removed]",
      "text/plain": [
       "<Figure size 640x480 with 1 Axes>"
      ]
     },
     "metadata": {},
     "output_type": "display_data"
    },
    {
     "name": "stdout",
     "output_type": "stream",
     "text": [
      "Sample means approximate a normal distribution (p-value = 0.835).\n"
     ]
    }
   ],
   "source": [
    "# b) Does the distribution of sample means approximate a normal distribution as sample size increases?\n",
    "import seaborn as sns\n",
    "from scipy.stats import normaltest\n",
    "\n",
    "largest_sample_size = max(sample_sizes)\n",
    "sns.histplot(sample_means[largest_sample_size], kde=True, bins=30, color='blue')\n",
    "plt.title(f\"Distribution of Sample Means (Sample size = {largest_sample_size})\")\n",
    "plt.xlabel(\"Sample Mean\")\n",
    "plt.ylabel(\"Frequency\")\n",
    "plt.show()\n",
    "\n",
    "stat, p_value = normaltest(sample_means[largest_sample_size])\n",
    "if p_value > 0.05:\n",
    "    print(f\"Sample means approximate a normal distribution (p-value = {p_value:.3f}).\")\n",
    "else:\n",
    "    print(f\"Sample means do not approximate a normal distribution (p-value = {p_value:.3f}).\")"
   ]
  },
  {
   "cell_type": "code",
   "execution_count": 29,
   "id": "f5ad97ca-6d15-4cb9-b784-8a6638d52cd4",
   "metadata": {},
   "outputs": [
    {
     "name": "stdout",
     "output_type": "stream",
     "text": [
      "Sample size = 10\n",
      "Mean of sample means = 2216.01, Population mean = 2219.58\n",
      "Variance of sample means = 33490.03, Theoretical variance = 33733.32\n",
      "\n",
      "Sample size = 30\n",
      "Mean of sample means = 2225.49, Population mean = 2219.58\n",
      "Variance of sample means = 11182.16, Theoretical variance = 11244.44\n",
      "\n",
      "Sample size = 50\n",
      "Mean of sample means = 2220.36, Population mean = 2219.58\n",
      "Variance of sample means = 6424.64, Theoretical variance = 6746.66\n",
      "\n",
      "Sample size = 100\n",
      "Mean of sample means = 2220.72, Population mean = 2219.58\n",
      "Variance of sample means = 3142.83, Theoretical variance = 3373.33\n",
      "\n"
     ]
    }
   ],
   "source": [
    "# c) Check if properties of Central limit theorem for the samples is satisfied.\n",
    "population_mean = df['price'].mean()\n",
    "population_variance = df['price'].var()\n",
    "\n",
    "# Verify properties of CLT\n",
    "for size in sample_sizes:\n",
    "    sample_mean = np.mean(sample_means[size])\n",
    "    sample_variance = np.var(sample_means[size])\n",
    "    theoretical_variance = population_variance / size\n",
    "    print(f\"Sample size = {size}\")\n",
    "    print(f\"Mean of sample means = {sample_mean:.2f}, Population mean = {population_mean:.2f}\")\n",
    "    print(f\"Variance of sample means = {sample_variance:.2f}, Theoretical variance = {theoretical_variance:.2f}\")\n",
    "    print()"
   ]
  }
 ],
 "metadata": {
  "kernelspec": {
   "display_name": "Python 3 (ipykernel)",
   "language": "python",
   "name": "python3"
  },
  "language_info": {
   "codemirror_mode": {
    "name": "ipython",
    "version": 3
   },
   "file_extension": ".py",
   "mimetype": "text/x-python",
   "name": "python",
   "nbconvert_exporter": "python",
   "pygments_lexer": "ipython3",
   "version": "3.12.4"
  }
 },
 "nbformat": 4,
 "nbformat_minor": 5
}
